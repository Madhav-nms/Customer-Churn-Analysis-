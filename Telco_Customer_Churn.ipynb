{
  "nbformat": 4,
  "nbformat_minor": 0,
  "metadata": {
    "colab": {
      "provenance": []
    },
    "kernelspec": {
      "name": "python3",
      "display_name": "Python 3"
    },
    "language_info": {
      "name": "python"
    }
  },
  "cells": [
    {
      "cell_type": "code",
      "execution_count": 1,
      "metadata": {
        "colab": {
          "base_uri": "https://localhost:8080/",
          "height": 342
        },
        "id": "cNvui0u7jvSw",
        "outputId": "ca390866-55ed-4719-97e6-b08899e62228"
      },
      "outputs": [
        {
          "output_type": "execute_result",
          "data": {
            "text/plain": [
              "   customerID  gender  SeniorCitizen Partner Dependents  tenure PhoneService  \\\n",
              "0  7590-VHVEG  Female              0     Yes         No       1           No   \n",
              "1  5575-GNVDE    Male              0      No         No      34          Yes   \n",
              "2  3668-QPYBK    Male              0      No         No       2          Yes   \n",
              "3  7795-CFOCW    Male              0      No         No      45           No   \n",
              "4  9237-HQITU  Female              0      No         No       2          Yes   \n",
              "\n",
              "      MultipleLines InternetService OnlineSecurity  ... DeviceProtection  \\\n",
              "0  No phone service             DSL             No  ...               No   \n",
              "1                No             DSL            Yes  ...              Yes   \n",
              "2                No             DSL            Yes  ...               No   \n",
              "3  No phone service             DSL            Yes  ...              Yes   \n",
              "4                No     Fiber optic             No  ...               No   \n",
              "\n",
              "  TechSupport StreamingTV StreamingMovies        Contract PaperlessBilling  \\\n",
              "0          No          No              No  Month-to-month              Yes   \n",
              "1          No          No              No        One year               No   \n",
              "2          No          No              No  Month-to-month              Yes   \n",
              "3         Yes          No              No        One year               No   \n",
              "4          No          No              No  Month-to-month              Yes   \n",
              "\n",
              "               PaymentMethod MonthlyCharges  TotalCharges Churn  \n",
              "0           Electronic check          29.85         29.85    No  \n",
              "1               Mailed check          56.95        1889.5    No  \n",
              "2               Mailed check          53.85        108.15   Yes  \n",
              "3  Bank transfer (automatic)          42.30       1840.75    No  \n",
              "4           Electronic check          70.70        151.65   Yes  \n",
              "\n",
              "[5 rows x 21 columns]"
            ],
            "text/html": [
              "\n",
              "  <div id=\"df-8ef75a13-eac6-4f0b-a1be-e8e04ee8c18b\" class=\"colab-df-container\">\n",
              "    <div>\n",
              "<style scoped>\n",
              "    .dataframe tbody tr th:only-of-type {\n",
              "        vertical-align: middle;\n",
              "    }\n",
              "\n",
              "    .dataframe tbody tr th {\n",
              "        vertical-align: top;\n",
              "    }\n",
              "\n",
              "    .dataframe thead th {\n",
              "        text-align: right;\n",
              "    }\n",
              "</style>\n",
              "<table border=\"1\" class=\"dataframe\">\n",
              "  <thead>\n",
              "    <tr style=\"text-align: right;\">\n",
              "      <th></th>\n",
              "      <th>customerID</th>\n",
              "      <th>gender</th>\n",
              "      <th>SeniorCitizen</th>\n",
              "      <th>Partner</th>\n",
              "      <th>Dependents</th>\n",
              "      <th>tenure</th>\n",
              "      <th>PhoneService</th>\n",
              "      <th>MultipleLines</th>\n",
              "      <th>InternetService</th>\n",
              "      <th>OnlineSecurity</th>\n",
              "      <th>...</th>\n",
              "      <th>DeviceProtection</th>\n",
              "      <th>TechSupport</th>\n",
              "      <th>StreamingTV</th>\n",
              "      <th>StreamingMovies</th>\n",
              "      <th>Contract</th>\n",
              "      <th>PaperlessBilling</th>\n",
              "      <th>PaymentMethod</th>\n",
              "      <th>MonthlyCharges</th>\n",
              "      <th>TotalCharges</th>\n",
              "      <th>Churn</th>\n",
              "    </tr>\n",
              "  </thead>\n",
              "  <tbody>\n",
              "    <tr>\n",
              "      <th>0</th>\n",
              "      <td>7590-VHVEG</td>\n",
              "      <td>Female</td>\n",
              "      <td>0</td>\n",
              "      <td>Yes</td>\n",
              "      <td>No</td>\n",
              "      <td>1</td>\n",
              "      <td>No</td>\n",
              "      <td>No phone service</td>\n",
              "      <td>DSL</td>\n",
              "      <td>No</td>\n",
              "      <td>...</td>\n",
              "      <td>No</td>\n",
              "      <td>No</td>\n",
              "      <td>No</td>\n",
              "      <td>No</td>\n",
              "      <td>Month-to-month</td>\n",
              "      <td>Yes</td>\n",
              "      <td>Electronic check</td>\n",
              "      <td>29.85</td>\n",
              "      <td>29.85</td>\n",
              "      <td>No</td>\n",
              "    </tr>\n",
              "    <tr>\n",
              "      <th>1</th>\n",
              "      <td>5575-GNVDE</td>\n",
              "      <td>Male</td>\n",
              "      <td>0</td>\n",
              "      <td>No</td>\n",
              "      <td>No</td>\n",
              "      <td>34</td>\n",
              "      <td>Yes</td>\n",
              "      <td>No</td>\n",
              "      <td>DSL</td>\n",
              "      <td>Yes</td>\n",
              "      <td>...</td>\n",
              "      <td>Yes</td>\n",
              "      <td>No</td>\n",
              "      <td>No</td>\n",
              "      <td>No</td>\n",
              "      <td>One year</td>\n",
              "      <td>No</td>\n",
              "      <td>Mailed check</td>\n",
              "      <td>56.95</td>\n",
              "      <td>1889.5</td>\n",
              "      <td>No</td>\n",
              "    </tr>\n",
              "    <tr>\n",
              "      <th>2</th>\n",
              "      <td>3668-QPYBK</td>\n",
              "      <td>Male</td>\n",
              "      <td>0</td>\n",
              "      <td>No</td>\n",
              "      <td>No</td>\n",
              "      <td>2</td>\n",
              "      <td>Yes</td>\n",
              "      <td>No</td>\n",
              "      <td>DSL</td>\n",
              "      <td>Yes</td>\n",
              "      <td>...</td>\n",
              "      <td>No</td>\n",
              "      <td>No</td>\n",
              "      <td>No</td>\n",
              "      <td>No</td>\n",
              "      <td>Month-to-month</td>\n",
              "      <td>Yes</td>\n",
              "      <td>Mailed check</td>\n",
              "      <td>53.85</td>\n",
              "      <td>108.15</td>\n",
              "      <td>Yes</td>\n",
              "    </tr>\n",
              "    <tr>\n",
              "      <th>3</th>\n",
              "      <td>7795-CFOCW</td>\n",
              "      <td>Male</td>\n",
              "      <td>0</td>\n",
              "      <td>No</td>\n",
              "      <td>No</td>\n",
              "      <td>45</td>\n",
              "      <td>No</td>\n",
              "      <td>No phone service</td>\n",
              "      <td>DSL</td>\n",
              "      <td>Yes</td>\n",
              "      <td>...</td>\n",
              "      <td>Yes</td>\n",
              "      <td>Yes</td>\n",
              "      <td>No</td>\n",
              "      <td>No</td>\n",
              "      <td>One year</td>\n",
              "      <td>No</td>\n",
              "      <td>Bank transfer (automatic)</td>\n",
              "      <td>42.30</td>\n",
              "      <td>1840.75</td>\n",
              "      <td>No</td>\n",
              "    </tr>\n",
              "    <tr>\n",
              "      <th>4</th>\n",
              "      <td>9237-HQITU</td>\n",
              "      <td>Female</td>\n",
              "      <td>0</td>\n",
              "      <td>No</td>\n",
              "      <td>No</td>\n",
              "      <td>2</td>\n",
              "      <td>Yes</td>\n",
              "      <td>No</td>\n",
              "      <td>Fiber optic</td>\n",
              "      <td>No</td>\n",
              "      <td>...</td>\n",
              "      <td>No</td>\n",
              "      <td>No</td>\n",
              "      <td>No</td>\n",
              "      <td>No</td>\n",
              "      <td>Month-to-month</td>\n",
              "      <td>Yes</td>\n",
              "      <td>Electronic check</td>\n",
              "      <td>70.70</td>\n",
              "      <td>151.65</td>\n",
              "      <td>Yes</td>\n",
              "    </tr>\n",
              "  </tbody>\n",
              "</table>\n",
              "<p>5 rows × 21 columns</p>\n",
              "</div>\n",
              "    <div class=\"colab-df-buttons\">\n",
              "\n",
              "  <div class=\"colab-df-container\">\n",
              "    <button class=\"colab-df-convert\" onclick=\"convertToInteractive('df-8ef75a13-eac6-4f0b-a1be-e8e04ee8c18b')\"\n",
              "            title=\"Convert this dataframe to an interactive table.\"\n",
              "            style=\"display:none;\">\n",
              "\n",
              "  <svg xmlns=\"http://www.w3.org/2000/svg\" height=\"24px\" viewBox=\"0 -960 960 960\">\n",
              "    <path d=\"M120-120v-720h720v720H120Zm60-500h600v-160H180v160Zm220 220h160v-160H400v160Zm0 220h160v-160H400v160ZM180-400h160v-160H180v160Zm440 0h160v-160H620v160ZM180-180h160v-160H180v160Zm440 0h160v-160H620v160Z\"/>\n",
              "  </svg>\n",
              "    </button>\n",
              "\n",
              "  <style>\n",
              "    .colab-df-container {\n",
              "      display:flex;\n",
              "      gap: 12px;\n",
              "    }\n",
              "\n",
              "    .colab-df-convert {\n",
              "      background-color: #E8F0FE;\n",
              "      border: none;\n",
              "      border-radius: 50%;\n",
              "      cursor: pointer;\n",
              "      display: none;\n",
              "      fill: #1967D2;\n",
              "      height: 32px;\n",
              "      padding: 0 0 0 0;\n",
              "      width: 32px;\n",
              "    }\n",
              "\n",
              "    .colab-df-convert:hover {\n",
              "      background-color: #E2EBFA;\n",
              "      box-shadow: 0px 1px 2px rgba(60, 64, 67, 0.3), 0px 1px 3px 1px rgba(60, 64, 67, 0.15);\n",
              "      fill: #174EA6;\n",
              "    }\n",
              "\n",
              "    .colab-df-buttons div {\n",
              "      margin-bottom: 4px;\n",
              "    }\n",
              "\n",
              "    [theme=dark] .colab-df-convert {\n",
              "      background-color: #3B4455;\n",
              "      fill: #D2E3FC;\n",
              "    }\n",
              "\n",
              "    [theme=dark] .colab-df-convert:hover {\n",
              "      background-color: #434B5C;\n",
              "      box-shadow: 0px 1px 3px 1px rgba(0, 0, 0, 0.15);\n",
              "      filter: drop-shadow(0px 1px 2px rgba(0, 0, 0, 0.3));\n",
              "      fill: #FFFFFF;\n",
              "    }\n",
              "  </style>\n",
              "\n",
              "    <script>\n",
              "      const buttonEl =\n",
              "        document.querySelector('#df-8ef75a13-eac6-4f0b-a1be-e8e04ee8c18b button.colab-df-convert');\n",
              "      buttonEl.style.display =\n",
              "        google.colab.kernel.accessAllowed ? 'block' : 'none';\n",
              "\n",
              "      async function convertToInteractive(key) {\n",
              "        const element = document.querySelector('#df-8ef75a13-eac6-4f0b-a1be-e8e04ee8c18b');\n",
              "        const dataTable =\n",
              "          await google.colab.kernel.invokeFunction('convertToInteractive',\n",
              "                                                    [key], {});\n",
              "        if (!dataTable) return;\n",
              "\n",
              "        const docLinkHtml = 'Like what you see? Visit the ' +\n",
              "          '<a target=\"_blank\" href=https://colab.research.google.com/notebooks/data_table.ipynb>data table notebook</a>'\n",
              "          + ' to learn more about interactive tables.';\n",
              "        element.innerHTML = '';\n",
              "        dataTable['output_type'] = 'display_data';\n",
              "        await google.colab.output.renderOutput(dataTable, element);\n",
              "        const docLink = document.createElement('div');\n",
              "        docLink.innerHTML = docLinkHtml;\n",
              "        element.appendChild(docLink);\n",
              "      }\n",
              "    </script>\n",
              "  </div>\n",
              "\n",
              "\n",
              "    <div id=\"df-ba8bfec2-519b-426a-b2d3-5bbb1b0481b2\">\n",
              "      <button class=\"colab-df-quickchart\" onclick=\"quickchart('df-ba8bfec2-519b-426a-b2d3-5bbb1b0481b2')\"\n",
              "                title=\"Suggest charts\"\n",
              "                style=\"display:none;\">\n",
              "\n",
              "<svg xmlns=\"http://www.w3.org/2000/svg\" height=\"24px\"viewBox=\"0 0 24 24\"\n",
              "     width=\"24px\">\n",
              "    <g>\n",
              "        <path d=\"M19 3H5c-1.1 0-2 .9-2 2v14c0 1.1.9 2 2 2h14c1.1 0 2-.9 2-2V5c0-1.1-.9-2-2-2zM9 17H7v-7h2v7zm4 0h-2V7h2v10zm4 0h-2v-4h2v4z\"/>\n",
              "    </g>\n",
              "</svg>\n",
              "      </button>\n",
              "\n",
              "<style>\n",
              "  .colab-df-quickchart {\n",
              "      --bg-color: #E8F0FE;\n",
              "      --fill-color: #1967D2;\n",
              "      --hover-bg-color: #E2EBFA;\n",
              "      --hover-fill-color: #174EA6;\n",
              "      --disabled-fill-color: #AAA;\n",
              "      --disabled-bg-color: #DDD;\n",
              "  }\n",
              "\n",
              "  [theme=dark] .colab-df-quickchart {\n",
              "      --bg-color: #3B4455;\n",
              "      --fill-color: #D2E3FC;\n",
              "      --hover-bg-color: #434B5C;\n",
              "      --hover-fill-color: #FFFFFF;\n",
              "      --disabled-bg-color: #3B4455;\n",
              "      --disabled-fill-color: #666;\n",
              "  }\n",
              "\n",
              "  .colab-df-quickchart {\n",
              "    background-color: var(--bg-color);\n",
              "    border: none;\n",
              "    border-radius: 50%;\n",
              "    cursor: pointer;\n",
              "    display: none;\n",
              "    fill: var(--fill-color);\n",
              "    height: 32px;\n",
              "    padding: 0;\n",
              "    width: 32px;\n",
              "  }\n",
              "\n",
              "  .colab-df-quickchart:hover {\n",
              "    background-color: var(--hover-bg-color);\n",
              "    box-shadow: 0 1px 2px rgba(60, 64, 67, 0.3), 0 1px 3px 1px rgba(60, 64, 67, 0.15);\n",
              "    fill: var(--button-hover-fill-color);\n",
              "  }\n",
              "\n",
              "  .colab-df-quickchart-complete:disabled,\n",
              "  .colab-df-quickchart-complete:disabled:hover {\n",
              "    background-color: var(--disabled-bg-color);\n",
              "    fill: var(--disabled-fill-color);\n",
              "    box-shadow: none;\n",
              "  }\n",
              "\n",
              "  .colab-df-spinner {\n",
              "    border: 2px solid var(--fill-color);\n",
              "    border-color: transparent;\n",
              "    border-bottom-color: var(--fill-color);\n",
              "    animation:\n",
              "      spin 1s steps(1) infinite;\n",
              "  }\n",
              "\n",
              "  @keyframes spin {\n",
              "    0% {\n",
              "      border-color: transparent;\n",
              "      border-bottom-color: var(--fill-color);\n",
              "      border-left-color: var(--fill-color);\n",
              "    }\n",
              "    20% {\n",
              "      border-color: transparent;\n",
              "      border-left-color: var(--fill-color);\n",
              "      border-top-color: var(--fill-color);\n",
              "    }\n",
              "    30% {\n",
              "      border-color: transparent;\n",
              "      border-left-color: var(--fill-color);\n",
              "      border-top-color: var(--fill-color);\n",
              "      border-right-color: var(--fill-color);\n",
              "    }\n",
              "    40% {\n",
              "      border-color: transparent;\n",
              "      border-right-color: var(--fill-color);\n",
              "      border-top-color: var(--fill-color);\n",
              "    }\n",
              "    60% {\n",
              "      border-color: transparent;\n",
              "      border-right-color: var(--fill-color);\n",
              "    }\n",
              "    80% {\n",
              "      border-color: transparent;\n",
              "      border-right-color: var(--fill-color);\n",
              "      border-bottom-color: var(--fill-color);\n",
              "    }\n",
              "    90% {\n",
              "      border-color: transparent;\n",
              "      border-bottom-color: var(--fill-color);\n",
              "    }\n",
              "  }\n",
              "</style>\n",
              "\n",
              "      <script>\n",
              "        async function quickchart(key) {\n",
              "          const quickchartButtonEl =\n",
              "            document.querySelector('#' + key + ' button');\n",
              "          quickchartButtonEl.disabled = true;  // To prevent multiple clicks.\n",
              "          quickchartButtonEl.classList.add('colab-df-spinner');\n",
              "          try {\n",
              "            const charts = await google.colab.kernel.invokeFunction(\n",
              "                'suggestCharts', [key], {});\n",
              "          } catch (error) {\n",
              "            console.error('Error during call to suggestCharts:', error);\n",
              "          }\n",
              "          quickchartButtonEl.classList.remove('colab-df-spinner');\n",
              "          quickchartButtonEl.classList.add('colab-df-quickchart-complete');\n",
              "        }\n",
              "        (() => {\n",
              "          let quickchartButtonEl =\n",
              "            document.querySelector('#df-ba8bfec2-519b-426a-b2d3-5bbb1b0481b2 button');\n",
              "          quickchartButtonEl.style.display =\n",
              "            google.colab.kernel.accessAllowed ? 'block' : 'none';\n",
              "        })();\n",
              "      </script>\n",
              "    </div>\n",
              "\n",
              "    </div>\n",
              "  </div>\n"
            ],
            "application/vnd.google.colaboratory.intrinsic+json": {
              "type": "dataframe",
              "variable_name": "df"
            }
          },
          "metadata": {},
          "execution_count": 1
        }
      ],
      "source": [
        "import numpy as np\n",
        "import pandas as pd\n",
        "\n",
        "# Loading the Dataset\n",
        "file_path = \"/content/WA_Fn-UseC_-Telco-Customer-Churn.csv\"\n",
        "df = pd.read_csv(file_path)\n",
        "df.head()"
      ]
    },
    {
      "cell_type": "code",
      "source": [
        "# Basic Cleaning\n",
        "# Converting 'TotalCharges' Column to numeric, using coerce which will turn blank values into NaN\n",
        "df['TotalCharges'] = pd.to_numeric(df['TotalCharges'], errors='coerce')\n",
        "\n",
        "# Checking for missing values in each column\n",
        "print(df.isnull().sum())\n",
        "\n"
      ],
      "metadata": {
        "colab": {
          "base_uri": "https://localhost:8080/"
        },
        "id": "BYuuYjLLkemM",
        "outputId": "999c6934-dd76-4dba-c3ff-87cc03f67fde"
      },
      "execution_count": 2,
      "outputs": [
        {
          "output_type": "stream",
          "name": "stdout",
          "text": [
            "customerID           0\n",
            "gender               0\n",
            "SeniorCitizen        0\n",
            "Partner              0\n",
            "Dependents           0\n",
            "tenure               0\n",
            "PhoneService         0\n",
            "MultipleLines        0\n",
            "InternetService      0\n",
            "OnlineSecurity       0\n",
            "OnlineBackup         0\n",
            "DeviceProtection     0\n",
            "TechSupport          0\n",
            "StreamingTV          0\n",
            "StreamingMovies      0\n",
            "Contract             0\n",
            "PaperlessBilling     0\n",
            "PaymentMethod        0\n",
            "MonthlyCharges       0\n",
            "TotalCharges        11\n",
            "Churn                0\n",
            "dtype: int64\n"
          ]
        }
      ]
    },
    {
      "cell_type": "code",
      "source": [
        "'''\n",
        " Since there are 11 missing values in totalcharges,\n",
        " replacing the missing values with 0 as they might be new customers\n",
        " (just signed up)\n",
        " '''\n",
        "df['TotalCharges'].fillna(0, inplace=True)"
      ],
      "metadata": {
        "colab": {
          "base_uri": "https://localhost:8080/"
        },
        "id": "Z62ztLoQlrR_",
        "outputId": "efede4e5-74de-4cbd-c74c-174fe8d6980a"
      },
      "execution_count": 3,
      "outputs": [
        {
          "output_type": "stream",
          "name": "stderr",
          "text": [
            "/tmp/ipython-input-3648492977.py:6: FutureWarning: A value is trying to be set on a copy of a DataFrame or Series through chained assignment using an inplace method.\n",
            "The behavior will change in pandas 3.0. This inplace method will never work because the intermediate object on which we are setting values always behaves as a copy.\n",
            "\n",
            "For example, when doing 'df[col].method(value, inplace=True)', try using 'df.method({col: value}, inplace=True)' or df[col] = df[col].method(value) instead, to perform the operation inplace on the original object.\n",
            "\n",
            "\n",
            "  df['TotalCharges'].fillna(0, inplace=True)\n"
          ]
        }
      ]
    },
    {
      "cell_type": "code",
      "source": [
        "# Dropping duplicate values/ rows based on customerID\n",
        "df.drop_duplicates(subset='customerID', inplace=True)\n",
        "\n",
        "# Creating a new column (Revenue per user) using the basic formula (Total Charge / Tenure)\n",
        "df['RPU'] = df.apply(lambda x: x['TotalCharges'] / x['tenure'] if x['tenure'] > 0 else 0, axis=1)\n",
        "\n",
        "# Checking again for any missing values\n",
        "print(df.isnull().sum())"
      ],
      "metadata": {
        "colab": {
          "base_uri": "https://localhost:8080/"
        },
        "id": "aKW91USWlxhh",
        "outputId": "905f1e25-b922-4c8b-80ba-f9916ec9dbb7"
      },
      "execution_count": 4,
      "outputs": [
        {
          "output_type": "stream",
          "name": "stdout",
          "text": [
            "customerID          0\n",
            "gender              0\n",
            "SeniorCitizen       0\n",
            "Partner             0\n",
            "Dependents          0\n",
            "tenure              0\n",
            "PhoneService        0\n",
            "MultipleLines       0\n",
            "InternetService     0\n",
            "OnlineSecurity      0\n",
            "OnlineBackup        0\n",
            "DeviceProtection    0\n",
            "TechSupport         0\n",
            "StreamingTV         0\n",
            "StreamingMovies     0\n",
            "Contract            0\n",
            "PaperlessBilling    0\n",
            "PaymentMethod       0\n",
            "MonthlyCharges      0\n",
            "TotalCharges        0\n",
            "Churn               0\n",
            "RPU                 0\n",
            "dtype: int64\n"
          ]
        }
      ]
    },
    {
      "cell_type": "code",
      "source": [
        "print(df.head())"
      ],
      "metadata": {
        "colab": {
          "base_uri": "https://localhost:8080/"
        },
        "id": "oPplyQBroiQL",
        "outputId": "85be2c1e-c749-4a7a-a0b1-6cf9f19b21f5"
      },
      "execution_count": 5,
      "outputs": [
        {
          "output_type": "stream",
          "name": "stdout",
          "text": [
            "   customerID  gender  SeniorCitizen Partner Dependents  tenure PhoneService  \\\n",
            "0  7590-VHVEG  Female              0     Yes         No       1           No   \n",
            "1  5575-GNVDE    Male              0      No         No      34          Yes   \n",
            "2  3668-QPYBK    Male              0      No         No       2          Yes   \n",
            "3  7795-CFOCW    Male              0      No         No      45           No   \n",
            "4  9237-HQITU  Female              0      No         No       2          Yes   \n",
            "\n",
            "      MultipleLines InternetService OnlineSecurity  ... TechSupport  \\\n",
            "0  No phone service             DSL             No  ...          No   \n",
            "1                No             DSL            Yes  ...          No   \n",
            "2                No             DSL            Yes  ...          No   \n",
            "3  No phone service             DSL            Yes  ...         Yes   \n",
            "4                No     Fiber optic             No  ...          No   \n",
            "\n",
            "  StreamingTV StreamingMovies        Contract PaperlessBilling  \\\n",
            "0          No              No  Month-to-month              Yes   \n",
            "1          No              No        One year               No   \n",
            "2          No              No  Month-to-month              Yes   \n",
            "3          No              No        One year               No   \n",
            "4          No              No  Month-to-month              Yes   \n",
            "\n",
            "               PaymentMethod MonthlyCharges TotalCharges  Churn        RPU  \n",
            "0           Electronic check          29.85        29.85     No  29.850000  \n",
            "1               Mailed check          56.95      1889.50     No  55.573529  \n",
            "2               Mailed check          53.85       108.15    Yes  54.075000  \n",
            "3  Bank transfer (automatic)          42.30      1840.75     No  40.905556  \n",
            "4           Electronic check          70.70       151.65    Yes  75.825000  \n",
            "\n",
            "[5 rows x 22 columns]\n"
          ]
        }
      ]
    },
    {
      "cell_type": "code",
      "source": [
        "# Round RPU to 3 decimal places\n",
        "df['RPU'] = df['RPU'].round(3)\n"
      ],
      "metadata": {
        "id": "DrbHbWmGpOdb"
      },
      "execution_count": 6,
      "outputs": []
    },
    {
      "cell_type": "code",
      "source": [
        "print(df.head())"
      ],
      "metadata": {
        "colab": {
          "base_uri": "https://localhost:8080/"
        },
        "id": "Dgc3SFy7pTqt",
        "outputId": "bb7f46c8-34c0-4a3c-8b83-b2e847edde0c"
      },
      "execution_count": 7,
      "outputs": [
        {
          "output_type": "stream",
          "name": "stdout",
          "text": [
            "   customerID  gender  SeniorCitizen Partner Dependents  tenure PhoneService  \\\n",
            "0  7590-VHVEG  Female              0     Yes         No       1           No   \n",
            "1  5575-GNVDE    Male              0      No         No      34          Yes   \n",
            "2  3668-QPYBK    Male              0      No         No       2          Yes   \n",
            "3  7795-CFOCW    Male              0      No         No      45           No   \n",
            "4  9237-HQITU  Female              0      No         No       2          Yes   \n",
            "\n",
            "      MultipleLines InternetService OnlineSecurity  ... TechSupport  \\\n",
            "0  No phone service             DSL             No  ...          No   \n",
            "1                No             DSL            Yes  ...          No   \n",
            "2                No             DSL            Yes  ...          No   \n",
            "3  No phone service             DSL            Yes  ...         Yes   \n",
            "4                No     Fiber optic             No  ...          No   \n",
            "\n",
            "  StreamingTV StreamingMovies        Contract PaperlessBilling  \\\n",
            "0          No              No  Month-to-month              Yes   \n",
            "1          No              No        One year               No   \n",
            "2          No              No  Month-to-month              Yes   \n",
            "3          No              No        One year               No   \n",
            "4          No              No  Month-to-month              Yes   \n",
            "\n",
            "               PaymentMethod MonthlyCharges TotalCharges  Churn     RPU  \n",
            "0           Electronic check          29.85        29.85     No  29.850  \n",
            "1               Mailed check          56.95      1889.50     No  55.574  \n",
            "2               Mailed check          53.85       108.15    Yes  54.075  \n",
            "3  Bank transfer (automatic)          42.30      1840.75     No  40.906  \n",
            "4           Electronic check          70.70       151.65    Yes  75.825  \n",
            "\n",
            "[5 rows x 22 columns]\n"
          ]
        }
      ]
    },
    {
      "cell_type": "code",
      "source": [
        "# EDA\n",
        "import matplotlib.pyplot as plt\n",
        "import seaborn as sns\n",
        "\n",
        "# Overall Churn Rate\n",
        "churn_rate = df['Churn'].value_counts(normalize=True) * 100\n",
        "print(\"Churn distribution (%):\")\n",
        "print(churn_rate)"
      ],
      "metadata": {
        "colab": {
          "base_uri": "https://localhost:8080/"
        },
        "id": "EzDsWLX7pWA5",
        "outputId": "3a5bfc06-eeb8-489f-e804-3aa09b3c7002"
      },
      "execution_count": 8,
      "outputs": [
        {
          "output_type": "stream",
          "name": "stdout",
          "text": [
            "Churn distribution (%):\n",
            "Churn\n",
            "No     73.463013\n",
            "Yes    26.536987\n",
            "Name: proportion, dtype: float64\n"
          ]
        }
      ]
    },
    {
      "cell_type": "code",
      "source": [
        "# Churn Distribution plot\n",
        "plt.figure(figsize=(6,4))\n",
        "sns.countplot(x='Churn', data=df, palette='Set2')\n",
        "plt.title(\"Churn Distribution\")\n",
        "plt.show()\n"
      ],
      "metadata": {
        "colab": {
          "base_uri": "https://localhost:8080/",
          "height": 517
        },
        "id": "y2ZXtEG5ppGj",
        "outputId": "791ec77a-2bf3-4ef5-fbe4-b3a29e9b17bc"
      },
      "execution_count": 9,
      "outputs": [
        {
          "output_type": "stream",
          "name": "stderr",
          "text": [
            "/tmp/ipython-input-1125946282.py:3: FutureWarning: \n",
            "\n",
            "Passing `palette` without assigning `hue` is deprecated and will be removed in v0.14.0. Assign the `x` variable to `hue` and set `legend=False` for the same effect.\n",
            "\n",
            "  sns.countplot(x='Churn', data=df, palette='Set2')\n"
          ]
        },
        {
          "output_type": "display_data",
          "data": {
            "text/plain": [
              "<Figure size 600x400 with 1 Axes>"
            ],
            "image/png": "[encoded data removed]"
          },
          "metadata": {}
        }
      ]
    },
    {
      "cell_type": "code",
      "source": [
        "# Average Monthly Charges Plot by churn status\n",
        "plt.figure(figsize=(6,4))\n",
        "sns.barplot(x='Churn', y='MonthlyCharges', data=df, palette='Set1')\n",
        "plt.title(\"Monthly Charges vs Churn\")\n",
        "plt.show()"
      ],
      "metadata": {
        "colab": {
          "base_uri": "https://localhost:8080/",
          "height": 517
        },
        "id": "GJbcb42VpxJV",
        "outputId": "3da9158a-a331-4287-cb57-31ca789227ab"
      },
      "execution_count": 10,
      "outputs": [
        {
          "output_type": "stream",
          "name": "stderr",
          "text": [
            "/tmp/ipython-input-1012703969.py:3: FutureWarning: \n",
            "\n",
            "Passing `palette` without assigning `hue` is deprecated and will be removed in v0.14.0. Assign the `x` variable to `hue` and set `legend=False` for the same effect.\n",
            "\n",
            "  sns.barplot(x='Churn', y='MonthlyCharges', data=df, palette='Set1')\n"
          ]
        },
        {
          "output_type": "display_data",
          "data": {
            "text/plain": [
              "<Figure size 600x400 with 1 Axes>"
            ],
            "image/png": "[encoded data removed]"
          },
          "metadata": {}
        }
      ]
    },
    {
      "cell_type": "markdown",
      "source": [
        "# Seems like customers paying higher monthly bills are more likely to churn"
      ],
      "metadata": {
        "id": "ijkKHIIyqRer"
      }
    },
    {
      "cell_type": "code",
      "source": [
        "# Churn rate by Contract type\n",
        "plt.figure(figsize=(6,4))\n",
        "sns.countplot(x='Contract', hue='Churn', data=df, palette='Set2')\n",
        "plt.title(\"Churn by Contract Type\")\n",
        "plt.xticks(rotation=30)\n",
        "plt.show()"
      ],
      "metadata": {
        "colab": {
          "base_uri": "https://localhost:8080/",
          "height": 464
        },
        "id": "hlAW0S3xp4sM",
        "outputId": "e2e8bf69-ffc6-428f-d417-d284bf322b89"
      },
      "execution_count": 11,
      "outputs": [
        {
          "output_type": "display_data",
          "data": {
            "text/plain": [
              "<Figure size 600x400 with 1 Axes>"
            ],
            "image/png": "[encoded data removed]"
          },
          "metadata": {}
        }
      ]
    },
    {
      "cell_type": "markdown",
      "source": [
        "# People who are using month to month plans are more likely to churn"
      ],
      "metadata": {
        "id": "iVfuGhXSq09f"
      }
    },
    {
      "cell_type": "code",
      "source": [
        "# Churn rate by Payment Method\n",
        "plt.figure(figsize=(8,4))\n",
        "sns.countplot(x='PaymentMethod', hue='Churn', data=df, palette='Set2')\n",
        "plt.title(\"Churn by Payment Method\")\n",
        "plt.xticks(rotation=45, ha='right')\n",
        "plt.show()"
      ],
      "metadata": {
        "colab": {
          "base_uri": "https://localhost:8080/",
          "height": 533
        },
        "id": "NtYgyMx-qh2y",
        "outputId": "62119447-1854-4486-e46a-36d64bfe730b"
      },
      "execution_count": 12,
      "outputs": [
        {
          "output_type": "display_data",
          "data": {
            "text/plain": [
              "<Figure size 800x400 with 1 Axes>"
            ],
            "image/png": "[encoded data removed]"
          },
          "metadata": {}
        }
      ]
    },
    {
      "cell_type": "markdown",
      "source": [
        "# Customers paying through electronic checks leave more often\n"
      ],
      "metadata": {
        "id": "d66WFrzsrKQj"
      }
    },
    {
      "cell_type": "code",
      "source": [
        "# RPU vs Churn Viz\n",
        "plt.figure(figsize=(6,4))\n",
        "sns.boxplot(x='Churn', y='RPU', data=df, palette='Set2')\n",
        "plt.title(\"RPU (Revenue Per User) vs Churn\")\n",
        "plt.ylabel(\"RPU (per month)\")\n",
        "plt.xlabel(\"Churn Status\")\n",
        "plt.show()"
      ],
      "metadata": {
        "colab": {
          "base_uri": "https://localhost:8080/",
          "height": 517
        },
        "id": "AXkZY3C5q_Nj",
        "outputId": "e1011f38-d83f-4112-f856-1d56e4613c43"
      },
      "execution_count": 13,
      "outputs": [
        {
          "output_type": "stream",
          "name": "stderr",
          "text": [
            "/tmp/ipython-input-1424351330.py:3: FutureWarning: \n",
            "\n",
            "Passing `palette` without assigning `hue` is deprecated and will be removed in v0.14.0. Assign the `x` variable to `hue` and set `legend=False` for the same effect.\n",
            "\n",
            "  sns.boxplot(x='Churn', y='RPU', data=df, palette='Set2')\n"
          ]
        },
        {
          "output_type": "display_data",
          "data": {
            "text/plain": [
              "<Figure size 600x400 with 1 Axes>"
            ],
            "image/png": "[encoded data removed]"
          },
          "metadata": {}
        }
      ]
    },
    {
      "cell_type": "markdown",
      "source": [
        "# Customers who pay more each month (higher RPU) are more likely to churn"
      ],
      "metadata": {
        "id": "7OBk54gosgQU"
      }
    },
    {
      "cell_type": "code",
      "source": [
        "# Product KPI's\n",
        "\n",
        "# Creating tenure cohorts\n",
        "bins = [0, 12, 24, 36, 48, 60, 72]  # tenure in months\n",
        "labels = [\"0-12\", \"12-24\", \"24-36\", \"36-48\", \"48-60\", \"60-72\"]\n",
        "df['TenureGroup'] = pd.cut(df['tenure'], bins=bins, labels=labels, right=True)\n",
        "\n",
        "# Calculating churn % within each cohort\n",
        "tenure_churn = df.groupby('TenureGroup')['Churn'].value_counts(normalize=True).unstack() * 100\n",
        "print(\"Churn % by Tenure Group:\")\n",
        "print(tenure_churn)\n",
        "\n",
        "# Plot churn by tenure group\n",
        "tenure_churn.plot(kind='bar', stacked=True, figsize=(8,5), colormap=\"Set2\")\n",
        "plt.title(\"Churn % by Tenure Cohorts\")\n",
        "plt.ylabel(\"Percentage\")\n",
        "plt.xlabel(\"Tenure Group (months)\")\n",
        "plt.legend(title=\"Churn\", loc=\"upper right\")\n",
        "plt.show()"
      ],
      "metadata": {
        "colab": {
          "base_uri": "https://localhost:8080/",
          "height": 724
        },
        "id": "v08UgTFksfkM",
        "outputId": "ffb248a3-c744-4e31-fe56-1af7f3b0cbe7"
      },
      "execution_count": 14,
      "outputs": [
        {
          "output_type": "stream",
          "name": "stderr",
          "text": [
            "/tmp/ipython-input-2782509373.py:9: FutureWarning: The default of observed=False is deprecated and will be changed to True in a future version of pandas. Pass observed=False to retain current behavior or observed=True to adopt the future default and silence this warning.\n",
            "  tenure_churn = df.groupby('TenureGroup')['Churn'].value_counts(normalize=True).unstack() * 100\n"
          ]
        },
        {
          "output_type": "stream",
          "name": "stdout",
          "text": [
            "Churn % by Tenure Group:\n",
            "Churn               No        Yes\n",
            "TenureGroup                      \n",
            "0-12         52.321839  47.678161\n",
            "12-24        71.289062  28.710938\n",
            "24-36        78.365385  21.634615\n",
            "36-48        80.971129  19.028871\n",
            "48-60        85.576923  14.423077\n",
            "60-72        93.390192   6.609808\n"
          ]
        },
        {
          "output_type": "display_data",
          "data": {
            "text/plain": [
              "<Figure size 800x500 with 1 Axes>"
            ],
            "image/png": "[encoded data removed]"
          },
          "metadata": {}
        }
      ]
    },
    {
      "cell_type": "code",
      "source": [
        "# List of add-on service columns\n",
        "services = ['OnlineSecurity', 'OnlineBackup', 'DeviceProtection',\n",
        "            'TechSupport', 'StreamingTV', 'StreamingMovies']\n",
        "\n",
        "# Create a new column: count of services subscribed per customer\n",
        "df['NumServices'] = df[services].apply(lambda row: sum(row == 'Yes'), axis=1)\n",
        "\n",
        "# Check distribution of number of services\n",
        "service_counts = df['NumServices'].value_counts().sort_index()\n",
        "print(\"Number of Services Subscribed:\")\n",
        "print(service_counts)\n",
        "\n",
        "# Average churn rate by number of services\n",
        "stickiness_churn = df.groupby('NumServices')['Churn'].value_counts(normalize=True).unstack() * 100\n",
        "print(\"\\nChurn % by Number of Services:\")\n",
        "print(stickiness_churn)\n",
        "\n",
        "# Plot churn vs number of services\n",
        "stickiness_churn.plot(kind='bar', stacked=True, figsize=(8,5), colormap=\"Set2\")\n",
        "plt.title(\"Churn % by Number of Services Subscribed\")\n",
        "plt.ylabel(\"Percentage\")\n",
        "plt.xlabel(\"Number of Add-on Services\")\n",
        "plt.legend(title=\"Churn\", loc=\"upper right\")\n",
        "plt.show()"
      ],
      "metadata": {
        "colab": {
          "base_uri": "https://localhost:8080/",
          "height": 846
        },
        "id": "CibMXvtkuriQ",
        "outputId": "ccd5657e-8078-427c-831e-fe29ec5cfc28"
      },
      "execution_count": 15,
      "outputs": [
        {
          "output_type": "stream",
          "name": "stdout",
          "text": [
            "Number of Services Subscribed:\n",
            "NumServices\n",
            "0    2219\n",
            "1     966\n",
            "2    1033\n",
            "3    1118\n",
            "4     852\n",
            "5     571\n",
            "6     284\n",
            "Name: count, dtype: int64\n",
            "\n",
            "Churn % by Number of Services:\n",
            "Churn               No        Yes\n",
            "NumServices                      \n",
            "0            78.593961  21.406039\n",
            "1            54.244306  45.755694\n",
            "2            64.181994  35.818006\n",
            "3            72.629696  27.370304\n",
            "4            77.699531  22.300469\n",
            "5            87.565674  12.434326\n",
            "6            94.718310   5.281690\n"
          ]
        },
        {
          "output_type": "display_data",
          "data": {
            "text/plain": [
              "<Figure size 800x500 with 1 Axes>"
            ],
            "image/png": "[encoded data removed]"
          },
          "metadata": {}
        }
      ]
    },
    {
      "cell_type": "code",
      "source": [
        "# Calculate churn % for each contract type\n",
        "contract_churn = df.groupby('Contract')['Churn'].value_counts(normalize=True).unstack() * 100\n",
        "\n",
        "print(\"Churn % by Contract Type:\")\n",
        "print(contract_churn)\n",
        "\n",
        "# Plot churn % by contract type\n",
        "contract_churn.plot(kind='bar', stacked=True, figsize=(7,5), colormap=\"Set2\")\n",
        "plt.title(\"Churn % by Contract Type\")\n",
        "plt.ylabel(\"Percentage\")\n",
        "plt.xlabel(\"Contract Type\")\n",
        "plt.legend(title=\"Churn\", loc=\"upper right\")\n",
        "plt.show()"
      ],
      "metadata": {
        "colab": {
          "base_uri": "https://localhost:8080/",
          "height": 690
        },
        "id": "RX7wa-MJvOBt",
        "outputId": "b58efca5-e455-4906-e834-6e57ce8588b5"
      },
      "execution_count": 16,
      "outputs": [
        {
          "output_type": "stream",
          "name": "stdout",
          "text": [
            "Churn % by Contract Type:\n",
            "Churn                  No        Yes\n",
            "Contract                            \n",
            "Month-to-month  57.290323  42.709677\n",
            "One year        88.730482  11.269518\n",
            "Two year        97.168142   2.831858\n"
          ]
        },
        {
          "output_type": "display_data",
          "data": {
            "text/plain": [
              "<Figure size 700x500 with 1 Axes>"
            ],
            "image/png": "[encoded data removed]"
          },
          "metadata": {}
        }
      ]
    },
    {
      "cell_type": "markdown",
      "source": [
        "# KPI Analysis / Observations\n",
        "\n",
        "\n",
        "\n",
        "*   Most customers leave in the first 12 months.\n",
        "*   Customers with only 1 service churn the most.\n",
        "\n",
        "\n",
        "*  Month-to-month users leave often.\n",
        "\n"
      ],
      "metadata": {
        "id": "Fl_-os5uwIfd"
      }
    },
    {
      "cell_type": "code",
      "source": [
        "from sklearn.model_selection import train_test_split\n",
        "from sklearn.preprocessing import LabelEncoder\n",
        "from sklearn.preprocessing import StandardScaler\n",
        "from sklearn.linear_model import LogisticRegression\n",
        "from sklearn.metrics import accuracy_score, f1_score, classification_report\n",
        "\n",
        "data = df.copy()\n",
        "\n",
        "# Setting the target column\n",
        "data['Churn'] = data['Churn'].map({'Yes':1 , 'No':0})\n",
        "\n",
        "#One hot encoding to handle categorical variables\n",
        "X = data.drop(['customerID', 'Churn'], axis = 1)\n",
        "X = pd.get_dummies(X, drop_first = True)\n",
        "y = data['Churn']\n",
        "\n",
        "#Train Test split\n",
        "X_train, X_test, y_train, y_test = train_test_split(X, y, test_size=0.2, random_state=42, stratify=y)\n",
        "\n",
        "# Feature Scaling\n",
        "scaler = StandardScaler()\n",
        "X_train = scaler.fit_transform(X_train)\n",
        "X_test = scaler.transform(X_test)\n",
        "\n",
        "# Logistic Regression Model\n",
        "log_reg = LogisticRegression(max_iter=1000, class_weight='balanced')\n",
        "log_reg.fit(X_train, y_train)\n",
        "\n",
        "# Prediction\n",
        "y_pred = log_reg.predict(X_test)\n",
        "\n",
        "# Evaluation\n",
        "print(\"Logistic Regression Results:\")\n",
        "print(\"Accuracy:\", accuracy_score(y_test, y_pred))\n",
        "print(\"F1-score:\", f1_score(y_test, y_pred))\n"
      ],
      "metadata": {
        "id": "N73FO1uqvh1L",
        "colab": {
          "base_uri": "https://localhost:8080/"
        },
        "outputId": "d85d9d68-3df6-4987-e4d3-9158291add46"
      },
      "execution_count": 18,
      "outputs": [
        {
          "output_type": "stream",
          "name": "stdout",
          "text": [
            "Logistic Regression Results:\n",
            "Accuracy: 0.7402413058907026\n",
            "F1-score: 0.6203319502074689\n"
          ]
        }
      ]
    },
    {
      "cell_type": "code",
      "source": [
        "print(\"\\nClassification Report:\\n\", classification_report(y_test, y_pred))"
      ],
      "metadata": {
        "colab": {
          "base_uri": "https://localhost:8080/"
        },
        "id": "oOZyYOwq6L6l",
        "outputId": "99c99a4a-42bf-40a7-c1fa-18cbac184ad9"
      },
      "execution_count": 19,
      "outputs": [
        {
          "output_type": "stream",
          "name": "stdout",
          "text": [
            "\n",
            "Classification Report:\n",
            "               precision    recall  f1-score   support\n",
            "\n",
            "           0       0.91      0.72      0.80      1035\n",
            "           1       0.51      0.80      0.62       374\n",
            "\n",
            "    accuracy                           0.74      1409\n",
            "   macro avg       0.71      0.76      0.71      1409\n",
            "weighted avg       0.80      0.74      0.75      1409\n",
            "\n"
          ]
        }
      ]
    },
    {
      "cell_type": "code",
      "source": [
        "# See the features which actually effect the churn rate\n",
        "feature_names = X.columns\n",
        "coefficients = log_reg.coef_[0]\n",
        "\n",
        "log_reg_features = pd.DataFrame({\n",
        "    'Feature': feature_names,\n",
        "    'Coefficient': coefficients\n",
        "})\n",
        "\n",
        "# Sorting by absolute coefficient value (strongest effects first)\n",
        "log_reg_features['AbsCoeff'] = log_reg_features['Coefficient'].abs()\n",
        "log_reg_features = log_reg_features.sort_values(by='AbsCoeff', ascending=False)\n",
        "\n",
        "print(\"Top 5 features from Logistic Regression:\")\n",
        "print(log_reg_features.head(5))\n"
      ],
      "metadata": {
        "colab": {
          "base_uri": "https://localhost:8080/"
        },
        "id": "yrCpJC4S6xt3",
        "outputId": "bb041227-ed35-4ded-a181-05ac67ecfcf4"
      },
      "execution_count": 20,
      "outputs": [
        {
          "output_type": "stream",
          "name": "stdout",
          "text": [
            "Top 5 features from Logistic Regression:\n",
            "                        Feature  Coefficient  AbsCoeff\n",
            "1                        tenure    -1.776983  1.776983\n",
            "2                MonthlyCharges    -0.999806  0.999806\n",
            "36            TenureGroup_60-72     0.991850  0.991850\n",
            "12  InternetService_Fiber optic     0.778069  0.778069\n",
            "27            Contract_Two year    -0.660331  0.660331\n"
          ]
        }
      ]
    },
    {
      "cell_type": "code",
      "source": [
        "# Random Forest\n",
        "from sklearn.ensemble import RandomForestClassifier\n",
        "from sklearn.metrics import accuracy_score, f1_score\n",
        "\n",
        "rf = RandomForestClassifier(\n",
        "    n_estimators=200,\n",
        "    random_state=42,\n",
        "    class_weight='balanced'\n",
        ")\n",
        "rf.fit(X_train, y_train)\n",
        "\n",
        "y_pred_rf = rf.predict(X_test)\n",
        "\n",
        "# Evaluation\n",
        "print(\"Random Forest Results:\")\n",
        "print(\"Accuracy:\", accuracy_score(y_test, y_pred_rf))\n",
        "print(\"F1-score:\", f1_score(y_test, y_pred_rf))"
      ],
      "metadata": {
        "colab": {
          "base_uri": "https://localhost:8080/"
        },
        "id": "WqJD24bx8rcD",
        "outputId": "d0a94afd-1b5e-4ea2-aff3-f7c79763599f"
      },
      "execution_count": 21,
      "outputs": [
        {
          "output_type": "stream",
          "name": "stdout",
          "text": [
            "Random Forest Results:\n",
            "Accuracy: 0.7863733144073811\n",
            "F1-score: 0.5460030165912518\n"
          ]
        }
      ]
    },
    {
      "cell_type": "code",
      "source": [
        "# Feature importance\n",
        "rf_importances = pd.DataFrame({\n",
        "    'Feature': X.columns,\n",
        "    'Importance': rf.feature_importances_\n",
        "}).sort_values(by='Importance', ascending=False)\n",
        "\n",
        "print(\"\\nTop 5 Features from Random Forest:\")\n",
        "print(rf_importances.head(5))"
      ],
      "metadata": {
        "colab": {
          "base_uri": "https://localhost:8080/"
        },
        "id": "TZRuLBtF9YZH",
        "outputId": "d7a2090c-eea1-422a-a3e5-fc1fb3ae1d1b"
      },
      "execution_count": 22,
      "outputs": [
        {
          "output_type": "stream",
          "name": "stdout",
          "text": [
            "\n",
            "Top 5 Features from Random Forest:\n",
            "              Feature  Importance\n",
            "3        TotalCharges    0.134928\n",
            "1              tenure    0.133734\n",
            "4                 RPU    0.113215\n",
            "2      MonthlyCharges    0.112611\n",
            "27  Contract_Two year    0.055577\n"
          ]
        }
      ]
    },
    {
      "cell_type": "code",
      "source": [
        "# A/B Testing\n",
        "\n",
        "import pandas as pd\n",
        "from scipy.stats import chi2_contingency\n",
        "\n",
        "# Contract Type vs Churn\n",
        "cont_contract = pd.crosstab(df['Contract'], df['Churn'])\n",
        "chi2_con, p_con, dof_con, exp_con = chi2_contingency(cont_contract)\n",
        "\n",
        "print(\"Chi-Square Test: Contract Type vs Churn\")\n",
        "print(\"Contingency Table:\\n\", cont_contract)\n",
        "print(\"p-value:\", p_con)\n",
        "if p_con < 0.05:\n",
        "    print(\"Contract type affects churn\\n\")\n",
        "else:\n",
        "    print(\"No significant difference detected\\n\")\n",
        "\n",
        "# Payment Method vs Churn\n",
        "\n",
        "df['PaymentGroup'] = df['PaymentMethod'].apply(\n",
        "    lambda x: 'Electronic check' if x == 'Electronic check' else 'Auto-pay'\n",
        ")\n",
        "\n",
        "cont_payment = pd.crosstab(df['PaymentGroup'], df['Churn'])\n",
        "chi2_pay, p_pay, dof_pay, exp_pay = chi2_contingency(cont_payment)\n",
        "\n",
        "print(\"Chi-Square Test: Payment Method vs Churn\")\n",
        "print(\"Contingency Table:\\n\", cont_payment)\n",
        "print(\"p-value:\", p_pay)\n",
        "if p_pay < 0.05:\n",
        "    print(\"Payment method affects churn\")\n",
        "else:\n",
        "    print(\"No significant difference detected\")\n"
      ],
      "metadata": {
        "colab": {
          "base_uri": "https://localhost:8080/"
        },
        "id": "ZriI1Dvq9egn",
        "outputId": "4259f25c-7ae2-43c3-e42f-cab897749855"
      },
      "execution_count": 23,
      "outputs": [
        {
          "output_type": "stream",
          "name": "stdout",
          "text": [
            "Chi-Square Test: Contract Type vs Churn\n",
            "Contingency Table:\n",
            " Churn             No   Yes\n",
            "Contract                  \n",
            "Month-to-month  2220  1655\n",
            "One year        1307   166\n",
            "Two year        1647    48\n",
            "p-value: 5.863038300673391e-258\n",
            "Contract type affects churn\n",
            "\n",
            "Chi-Square Test: Payment Method vs Churn\n",
            "Contingency Table:\n",
            " Churn               No   Yes\n",
            "PaymentGroup                \n",
            "Auto-pay          3880   798\n",
            "Electronic check  1294  1071\n",
            "p-value: 2.5280301640753998e-141\n",
            "Payment method affects churn\n"
          ]
        }
      ]
    },
    {
      "cell_type": "code",
      "source": [
        "# Save cleaned dataset to CSV\n",
        "df.to_csv(\"Cleaned_Telco_Churn.csv\", index=False)"
      ],
      "metadata": {
        "id": "az5JqYkX_zNh"
      },
      "execution_count": 24,
      "outputs": []
    },
    {
      "cell_type": "code",
      "source": [],
      "metadata": {
        "id": "y_PkVbOjAhuV"
      },
      "execution_count": null,
      "outputs": []
    }
  ]
}